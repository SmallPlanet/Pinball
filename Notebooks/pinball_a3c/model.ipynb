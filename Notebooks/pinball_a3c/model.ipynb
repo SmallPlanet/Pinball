{
  "nbformat": 4,
  "nbformat_minor": 0,
  "metadata": {
    "colab": {
      "name": "model.ipynb",
      "version": "0.3.2",
      "views": {},
      "default_view": {},
      "provenance": []
    },
    "kernelspec": {
      "display_name": "Python 2",
      "language": "python",
      "name": "python2"
    }
  },
  "cells": [
    {
      "metadata": {
        "id": "f1mCz_9tlDks",
        "colab_type": "text"
      },
      "source": [
        "![PinballML](https://raw.githubusercontent.com/SmallPlanetiOS/smallplanet_Pinball/master/meta/logo.png?token=AAD0RiQR-zTLfWKOoct9N0PgJ8yEl90Iks5ZuAJ8wA%3D%3D)\n",
        "\n",
        "\n",
        "# A3C Pinball Model"
      ],
      "cell_type": "markdown"
    },
    {
      "metadata": {
        "id": "Ppbb1jpjlDkt",
        "colab_type": "code",
        "colab": {
          "autoexec": {
            "startup": false,
            "wait_interval": 0
          },
          "output_extras": [
            {
              "item_id": 1
            }
          ],
          "base_uri": "https://localhost:8080/",
          "height": 34
        },
        "outputId": "127fd7a1-f3ea-44a3-c325-fecf649e10ed",
        "executionInfo": {
          "status": "ok",
          "timestamp": 1512761314054,
          "user_tz": 300,
          "elapsed": 364,
          "user": {
            "displayName": "Quinn McHenry",
            "photoUrl": "//lh5.googleusercontent.com/-bx6aEL-5ZU8/AAAAAAAAAAI/AAAAAAAAAxY/baBrcaAxGaU/s50-c-k-no/photo.jpg",
            "userId": "106199565525324739063"
          }
        }
      },
      "source": [
        "model_prefix = \"tng\"\n",
        "\n",
        "model_codename = \"adam\"\n",
        "# Adam, Buy, Charles, David, Edward, Frank, George, Henry, Ida, \n",
        "# John, King, Lincoln, Mary, Nora, Ocean, Paul, Queen, Robert, \n",
        "# Sam, Tom, Union, Victor, William, Xray, Young, Zebra\n",
        "\n",
        "model_index = 0  # increments with each model iteration\n",
        "\n",
        "model_notes = \"Full playfield, four temporal layers, 5 actions. Codename: \"+model_codename\n",
        "input_shape = (96,128,3)\n",
        "\n",
        "model_fileprefix = \"%s_%s_%04d\" % (model_prefix, model_codename, model_index)\n",
        "print(\"Current model filename prefix: \" + model_fileprefix)"
      ],
      "cell_type": "code",
      "execution_count": 1,
      "outputs": [
        {
          "output_type": "stream",
          "text": [
            "Current model filename prefix: tng_adam_0000\n"
          ],
          "name": "stdout"
        }
      ]
    },
    {
      "metadata": {
        "id": "v3FnnBGtlDk0",
        "colab_type": "text"
      },
      "source": [
        "## Actions\n",
        "* 0 - NOP\n",
        "* 1 - Left flipper\n",
        "* 2 - Right flipper\n",
        "* 3 - Ball kicker \n",
        "* 4 - Right upper flipper"
      ],
      "cell_type": "markdown"
    },
    {
      "metadata": {
        "id": "-ndsbb4blDk1",
        "colab_type": "code",
        "colab": {
          "autoexec": {
            "startup": false,
            "wait_interval": 0
          }
        }
      },
      "source": [
        "actions = 5\n"
      ],
      "cell_type": "code",
      "execution_count": 0,
      "outputs": []
    },
    {
      "metadata": {
        "id": "yFBy8sxLlJ4Z",
        "colab_type": "code",
        "colab": {
          "autoexec": {
            "startup": false,
            "wait_interval": 0
          },
          "output_extras": [
            {
              "item_id": 2
            }
          ],
          "base_uri": "https://localhost:8080/",
          "height": 408
        },
        "outputId": "d06b6718-c2fc-4235-e535-f512802196fb",
        "executionInfo": {
          "status": "ok",
          "timestamp": 1512761317418,
          "user_tz": 300,
          "elapsed": 2805,
          "user": {
            "displayName": "Quinn McHenry",
            "photoUrl": "//lh5.googleusercontent.com/-bx6aEL-5ZU8/AAAAAAAAAAI/AAAAAAAAAxY/baBrcaAxGaU/s50-c-k-no/photo.jpg",
            "userId": "106199565525324739063"
          }
        }
      },
      "source": [
        "!pip install keras tensorflow coremltools h5py cython\n",
        "!apt-get -qq install -y python-h5py libhdf5-dev"
      ],
      "cell_type": "code",
      "execution_count": 3,
      "outputs": [
        {
          "output_type": "stream",
          "text": [
            "Requirement already satisfied: keras in /usr/local/lib/python2.7/dist-packages\r\n",
            "Requirement already satisfied: tensorflow in /usr/local/lib/python2.7/dist-packages\r\n",
            "Requirement already satisfied: coremltools in /usr/local/lib/python2.7/dist-packages\r\n",
            "Requirement already satisfied: h5py in /usr/local/lib/python2.7/dist-packages\r\n",
            "Requirement already satisfied: cython in /usr/local/lib/python2.7/dist-packages\r\n",
            "Requirement already satisfied: pyyaml in /usr/local/lib/python2.7/dist-packages (from keras)\r\n",
            "Requirement already satisfied: six>=1.9.0 in /usr/local/lib/python2.7/dist-packages (from keras)\r\n",
            "Requirement already satisfied: numpy>=1.9.1 in /usr/local/lib/python2.7/dist-packages (from keras)\r\n",
            "Requirement already satisfied: scipy>=0.14 in /usr/local/lib/python2.7/dist-packages (from keras)\r\n",
            "Requirement already satisfied: tensorflow-tensorboard<0.5.0,>=0.4.0rc1 in /usr/local/lib/python2.7/dist-packages (from tensorflow)\r\n",
            "Requirement already satisfied: mock>=2.0.0 in /usr/local/lib/python2.7/dist-packages (from tensorflow)\n",
            "Requirement already satisfied: enum34>=1.1.6 in /usr/local/lib/python2.7/dist-packages (from tensorflow)\n",
            "Requirement already satisfied: protobuf>=3.3.0 in /usr/local/lib/python2.7/dist-packages (from tensorflow)\n",
            "Requirement already satisfied: wheel in /usr/local/lib/python2.7/dist-packages (from tensorflow)\n",
            "Requirement already satisfied: backports.weakref>=1.0rc1 in /usr/local/lib/python2.7/dist-packages (from tensorflow)\n",
            "Requirement already satisfied: bleach==1.5.0 in /usr/local/lib/python2.7/dist-packages (from tensorflow-tensorboard<0.5.0,>=0.4.0rc1->tensorflow)\n",
            "Requirement already satisfied: futures>=3.1.1; python_version < \"3.2\" in /usr/local/lib/python2.7/dist-packages (from tensorflow-tensorboard<0.5.0,>=0.4.0rc1->tensorflow)\n",
            "Requirement already satisfied: markdown>=2.6.8 in /usr/local/lib/python2.7/dist-packages (from tensorflow-tensorboard<0.5.0,>=0.4.0rc1->tensorflow)\n",
            "Requirement already satisfied: werkzeug>=0.11.10 in /usr/local/lib/python2.7/dist-packages (from tensorflow-tensorboard<0.5.0,>=0.4.0rc1->tensorflow)\n",
            "Requirement already satisfied: html5lib==0.9999999 in /usr/local/lib/python2.7/dist-packages (from tensorflow-tensorboard<0.5.0,>=0.4.0rc1->tensorflow)\n",
            "Requirement already satisfied: funcsigs>=1; python_version < \"3.3\" in /usr/local/lib/python2.7/dist-packages (from mock>=2.0.0->tensorflow)\n",
            "Requirement already satisfied: pbr>=0.11 in /usr/local/lib/python2.7/dist-packages (from mock>=2.0.0->tensorflow)\n",
            "Requirement already satisfied: setuptools in /usr/local/lib/python2.7/dist-packages (from protobuf>=3.3.0->tensorflow)\n"
          ],
          "name": "stdout"
        }
      ]
    },
    {
      "metadata": {
        "id": "nMDBmU4WlDk4",
        "colab_type": "text"
      },
      "source": [
        "## Model"
      ],
      "cell_type": "markdown"
    },
    {
      "metadata": {
        "id": "o-M5SKGUlDk6",
        "colab_type": "code",
        "colab": {
          "autoexec": {
            "startup": false,
            "wait_interval": 0
          },
          "output_extras": [
            {
              "item_id": 1
            }
          ],
          "base_uri": "https://localhost:8080/",
          "height": 34
        },
        "outputId": "d4500791-a83c-4baf-8db3-3f4ae9058522",
        "executionInfo": {
          "status": "ok",
          "timestamp": 1512761318967,
          "user_tz": 300,
          "elapsed": 1530,
          "user": {
            "displayName": "Quinn McHenry",
            "photoUrl": "//lh5.googleusercontent.com/-bx6aEL-5ZU8/AAAAAAAAAAI/AAAAAAAAAxY/baBrcaAxGaU/s50-c-k-no/photo.jpg",
            "userId": "106199565525324739063"
          }
        }
      },
      "source": [
        "from keras.models import Model\n",
        "from keras.layers import Dense, Dropout, Flatten, Input\n",
        "from keras.layers.convolutional import Conv2D, MaxPooling2D\n",
        "\n",
        "# Model\n",
        "\n",
        "state = Input(shape=input_shape)\n",
        "h = Conv2D(16, kernel_size=8, strides=4, activation='relu')(state)    \n",
        "h = Conv2D(32, kernel_size=4, strides=2, activation='relu')(h)\n",
        "h = Flatten()(h)\n",
        "h = Dense(128, activation='relu')(h)\n",
        "\n",
        "value = Dense(1, activation='linear', name='value')(h)\n",
        "policy = Dense(actions, activation='softmax', name='policy')(h)\n",
        "\n",
        "value_network = Model(inputs=state, outputs=value)\n",
        "policy_network = Model(inputs=state, outputs=policy)\n",
        "advantage = Input(shape=(1,))\n",
        "train_network = Model(inputs=[state, advantage], outputs=[value, policy])"
      ],
      "cell_type": "code",
      "execution_count": 4,
      "outputs": [
        {
          "output_type": "stream",
          "text": [
            "Using TensorFlow backend.\n"
          ],
          "name": "stderr"
        }
      ]
    },
    {
      "metadata": {
        "id": "ERIuX1SclDk8",
        "colab_type": "code",
        "colab": {
          "autoexec": {
            "startup": false,
            "wait_interval": 0
          },
          "output_extras": [
            {
              "item_id": 1
            }
          ],
          "base_uri": "https://localhost:8080/",
          "height": 340
        },
        "outputId": "04425e03-c7f8-4a5c-dcac-289c90dddf15",
        "executionInfo": {
          "status": "ok",
          "timestamp": 1512761319317,
          "user_tz": 300,
          "elapsed": 334,
          "user": {
            "displayName": "Quinn McHenry",
            "photoUrl": "//lh5.googleusercontent.com/-bx6aEL-5ZU8/AAAAAAAAAAI/AAAAAAAAAxY/baBrcaAxGaU/s50-c-k-no/photo.jpg",
            "userId": "106199565525324739063"
          }
        }
      },
      "source": [
        "value_network.summary()"
      ],
      "cell_type": "code",
      "execution_count": 5,
      "outputs": [
        {
          "output_type": "stream",
          "text": [
            "_________________________________________________________________\n",
            "Layer (type)                 Output Shape              Param #   \n",
            "=================================================================\n",
            "input_1 (InputLayer)         (None, 96, 128, 3)        0         \n",
            "_________________________________________________________________\n",
            "conv2d_1 (Conv2D)            (None, 23, 31, 16)        3088      \n",
            "_________________________________________________________________\n",
            "conv2d_2 (Conv2D)            (None, 10, 14, 32)        8224      \n",
            "_________________________________________________________________\n",
            "flatten_1 (Flatten)          (None, 4480)              0         \n",
            "_________________________________________________________________\n",
            "dense_1 (Dense)              (None, 128)               573568    \n",
            "_________________________________________________________________\n",
            "value (Dense)                (None, 1)                 129       \n",
            "=================================================================\n",
            "Total params: 585,009\n",
            "Trainable params: 585,009\n",
            "Non-trainable params: 0\n",
            "_________________________________________________________________\n"
          ],
          "name": "stdout"
        }
      ]
    },
    {
      "metadata": {
        "id": "R3B53alwlDlD",
        "colab_type": "code",
        "colab": {
          "autoexec": {
            "startup": false,
            "wait_interval": 0
          },
          "output_extras": [
            {
              "item_id": 1
            }
          ],
          "base_uri": "https://localhost:8080/",
          "height": 340
        },
        "outputId": "748a2f5e-11a4-403d-f86c-0d07c420df9c",
        "executionInfo": {
          "status": "ok",
          "timestamp": 1512761319898,
          "user_tz": 300,
          "elapsed": 529,
          "user": {
            "displayName": "Quinn McHenry",
            "photoUrl": "//lh5.googleusercontent.com/-bx6aEL-5ZU8/AAAAAAAAAAI/AAAAAAAAAxY/baBrcaAxGaU/s50-c-k-no/photo.jpg",
            "userId": "106199565525324739063"
          }
        }
      },
      "source": [
        "policy_network.summary()"
      ],
      "cell_type": "code",
      "execution_count": 6,
      "outputs": [
        {
          "output_type": "stream",
          "text": [
            "_________________________________________________________________\n",
            "Layer (type)                 Output Shape              Param #   \n",
            "=================================================================\n",
            "input_1 (InputLayer)         (None, 96, 128, 3)        0         \n",
            "_________________________________________________________________\n",
            "conv2d_1 (Conv2D)            (None, 23, 31, 16)        3088      \n",
            "_________________________________________________________________\n",
            "conv2d_2 (Conv2D)            (None, 10, 14, 32)        8224      \n",
            "_________________________________________________________________\n",
            "flatten_1 (Flatten)          (None, 4480)              0         \n",
            "_________________________________________________________________\n",
            "dense_1 (Dense)              (None, 128)               573568    \n",
            "_________________________________________________________________\n",
            "policy (Dense)               (None, 5)                 645       \n",
            "=================================================================\n",
            "Total params: 585,525\n",
            "Trainable params: 585,525\n",
            "Non-trainable params: 0\n",
            "_________________________________________________________________\n"
          ],
          "name": "stdout"
        }
      ]
    },
    {
      "metadata": {
        "id": "hiOl0xXnlDlG",
        "colab_type": "text"
      },
      "source": [
        "## Convert Policy Network to CoreML"
      ],
      "cell_type": "markdown"
    },
    {
      "metadata": {
        "id": "2_7xTOYDlDlH",
        "colab_type": "code",
        "colab": {
          "autoexec": {
            "startup": false,
            "wait_interval": 0
          }
        }
      },
      "source": [
        "keras_filename = model_fileprefix + '.model'\n",
        "coreml_filename = model_fileprefix + '.mlmodel'\n",
        "\n",
        "policy_network.save(keras_filename)"
      ],
      "cell_type": "code",
      "execution_count": 0,
      "outputs": []
    },
    {
      "metadata": {
        "id": "MsDRkpmklDlL",
        "colab_type": "code",
        "colab": {
          "autoexec": {
            "startup": false,
            "wait_interval": 0
          },
          "output_extras": [
            {
              "item_id": 2
            },
            {
              "item_id": 3
            }
          ],
          "base_uri": "https://localhost:8080/",
          "height": 255
        },
        "outputId": "ddbecb47-9c39-4450-9a68-827ee37b7b99",
        "executionInfo": {
          "status": "ok",
          "timestamp": 1512761329193,
          "user_tz": 300,
          "elapsed": 503,
          "user": {
            "displayName": "Quinn McHenry",
            "photoUrl": "//lh5.googleusercontent.com/-bx6aEL-5ZU8/AAAAAAAAAAI/AAAAAAAAAxY/baBrcaAxGaU/s50-c-k-no/photo.jpg",
            "userId": "106199565525324739063"
          }
        }
      },
      "source": [
        "import coremltools\n",
        "\n",
        "# output_labels = ['left','right']\n",
        "coreml_model = coremltools.converters.keras.convert(keras_filename, \n",
        "                                                    input_names='images', \n",
        "                                                    image_input_names = 'images')\n",
        "# coreml_model.author = 'Quinn McHenry'\n",
        "# coreml_model.short_description = model_notes\n",
        "# coreml_model.input_description['image'] = 'Composite of four images of the pinball playfield from top-down perspective in grayscale one in each RGBA channel'\n",
        "\n",
        "coreml_model.save(coreml_filename)"
      ],
      "cell_type": "code",
      "execution_count": 8,
      "outputs": [
        {
          "output_type": "stream",
          "text": [
            "WARNING:root:Keras version 2.1.2 detected. Last version known to be fully compatible of Keras is 2.0.6 .\n",
            "WARNING:root:TensorFlow version 1.4.1 detected. Last version known to be fully compatible is 1.2.1 .\n",
            "/usr/local/lib/python2.7/dist-packages/keras/models.py:252: UserWarning: No training configuration found in save file: the model was *not* compiled. Compile it manually.\n",
            "  warnings.warn('No training configuration found in save file: '\n"
          ],
          "name": "stderr"
        },
        {
          "output_type": "stream",
          "text": [
            "0 : input_1, <keras.engine.topology.InputLayer object at 0x7f8fe0596c10>\n",
            "1 : conv2d_1, <keras.layers.convolutional.Conv2D object at 0x7f8fe0596cd0>\n",
            "2 : conv2d_1__activation__, <keras.layers.core.Activation object at 0x7f8fe05969d0>\n",
            "3 : conv2d_2, <keras.layers.convolutional.Conv2D object at 0x7f8fe0596d50>\n",
            "4 : conv2d_2__activation__, <keras.layers.core.Activation object at 0x7f8fe0596a50>\n",
            "5 : flatten_1, <keras.layers.core.Flatten object at 0x7f8fe0596e90>\n",
            "6 : dense_1, <keras.layers.core.Dense object at 0x7f8fe05ab110>\n",
            "7 : dense_1__activation__, <keras.layers.core.Activation object at 0x7f8fe0596a10>\n",
            "8 : policy, <keras.layers.core.Dense object at 0x7f8fe05ab210>\n",
            "9 : policy__activation__, <keras.layers.core.Activation object at 0x7f8fe0596ad0>\n"
          ],
          "name": "stdout"
        }
      ]
    },
    {
      "metadata": {
        "id": "DQgp-iHMlDlV",
        "colab_type": "code",
        "colab": {
          "autoexec": {
            "startup": false,
            "wait_interval": 0
          }
        }
      },
      "source": [
        "from google.colab import files\n",
        "\n",
        "files.download(coreml_filename)"
      ],
      "cell_type": "code",
      "execution_count": 0,
      "outputs": []
    },
    {
      "metadata": {
        "id": "pllwuwM6lDlY",
        "colab_type": "code",
        "colab": {
          "autoexec": {
            "startup": false,
            "wait_interval": 0
          }
        }
      },
      "source": [
        ""
      ],
      "cell_type": "code",
      "execution_count": 0,
      "outputs": []
    }
  ]
}